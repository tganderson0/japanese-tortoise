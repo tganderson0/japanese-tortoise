{
 "cells": [
  {
   "attachments": {},
   "cell_type": "markdown",
   "metadata": {},
   "source": [
    "## Imports"
   ]
  },
  {
   "cell_type": "code",
   "execution_count": 1,
   "metadata": {},
   "outputs": [],
   "source": [
    "import requests\n",
    "from urllib.parse import urlencode\n",
    "import soundfile as sf\n",
    "import sounddevice as sd"
   ]
  },
  {
   "attachments": {},
   "cell_type": "markdown",
   "metadata": {},
   "source": [
    "## Constants"
   ]
  },
  {
   "cell_type": "code",
   "execution_count": 2,
   "metadata": {},
   "outputs": [],
   "source": [
    "SPEED_SCALE=1.7\n",
    "VOLUME_SCALE=4.0\n",
    "INTONATION_SCALE=1.5\n",
    "PRE_PHONEME_LENGTH=1.0\n",
    "POST_PHONEME_LENGTH=1.0\n",
    "WAV_FILE = 'output.wav'"
   ]
  },
  {
   "attachments": {},
   "cell_type": "markdown",
   "metadata": {},
   "source": [
    "## Helpers"
   ]
  },
  {
   "cell_type": "code",
   "execution_count": 3,
   "metadata": {},
   "outputs": [],
   "source": [
    "def create_route(route):\n",
    "    return f'http://localhost:50021{route}'"
   ]
  },
  {
   "attachments": {},
   "cell_type": "markdown",
   "metadata": {},
   "source": [
    "## Synthesize Speech"
   ]
  },
  {
   "cell_type": "code",
   "execution_count": 7,
   "metadata": {},
   "outputs": [],
   "source": [
    "def to_speech(text, speaker):\n",
    "    params_encoded = urlencode({'text': text, 'speaker': speaker})\n",
    "    payload = requests.post(create_route(f'/audio_query?{params_encoded}'))\n",
    "    payload = payload.json()\n",
    "    # payload['speedScale'] = SPEED_SCALE\n",
    "    # payload['volumeScale'] = VOLUME_SCALE\n",
    "    # payload['intonationScale'] = INTONATION_SCALE\n",
    "    # payload['prePhonemeLength'] = PRE_PHONEME_LENGTH\n",
    "    # payload['postPhonemeLength'] = POST_PHONEME_LENGTH\n",
    "    params_encoded = urlencode({'speaker': speaker})\n",
    "    query = requests.post(create_route(f'/synthesis?{params_encoded}'), json=payload)\n",
    "    with open(WAV_FILE, 'wb') as outfile:\n",
    "        outfile.write(query.content)"
   ]
  },
  {
   "cell_type": "code",
   "execution_count": 6,
   "metadata": {},
   "outputs": [
    {
     "name": "stdout",
     "output_type": "stream",
     "text": [
      "made it here: {'accent_phrases': [{'moras': [{'text': 'ジェ', 'consonant': 'j', 'consonant_length': 0.060032472014427185, 'vowel': 'e', 'vowel_length': 0.09864491969347, 'pitch': 5.653095722198486}, {'text': 'フ', 'consonant': 'f', 'consonant_length': 0.07717549055814743, 'vowel': 'u', 'vowel_length': 0.13155324757099152, 'pitch': 5.5326385498046875}], 'accent': 1, 'pause_mora': {'text': '、', 'consonant': None, 'consonant_length': None, 'vowel': 'pau', 'vowel_length': 0.41154447197914124, 'pitch': 0.0}, 'is_interrogative': False}, {'moras': [{'text': 'ア', 'consonant': None, 'consonant_length': None, 'vowel': 'a', 'vowel_length': 0.09625699371099472, 'pitch': 5.455412864685059}, {'text': 'ナ', 'consonant': 'n', 'consonant_length': 0.058159396052360535, 'vowel': 'a', 'vowel_length': 0.09856464713811874, 'pitch': 5.699678897857666}, {'text': 'タ', 'consonant': 't', 'consonant_length': 0.05540332943201065, 'vowel': 'a', 'vowel_length': 0.06919946521520615, 'pitch': 5.840692520141602}, {'text': 'ワ', 'consonant': 'w', 'consonant_length': 0.05286824703216553, 'vowel': 'a', 'vowel_length': 0.07523446530103683, 'pitch': 5.623851299285889}], 'accent': 2, 'pause_mora': None, 'is_interrogative': False}, {'moras': [{'text': 'シュ', 'consonant': 'sh', 'consonant_length': 0.04044444113969803, 'vowel': 'U', 'vowel_length': 0.06628800183534622, 'pitch': 0.0}, {'text': 'ク', 'consonant': 'k', 'consonant_length': 0.07125932723283768, 'vowel': 'u', 'vowel_length': 0.05142151564359665, 'pitch': 5.721377372741699}, {'text': 'ダ', 'consonant': 'd', 'consonant_length': 0.049585096538066864, 'vowel': 'a', 'vowel_length': 0.10859113186597824, 'pitch': 5.780676364898682}, {'text': 'イ', 'consonant': None, 'consonant_length': None, 'vowel': 'i', 'vowel_length': 0.07082744687795639, 'pitch': 5.815648078918457}, {'text': 'オ', 'consonant': None, 'consonant_length': None, 'vowel': 'o', 'vowel_length': 0.11369077116250992, 'pitch': 5.819805145263672}], 'accent': 5, 'pause_mora': None, 'is_interrogative': False}, {'moras': [{'text': 'ス', 'consonant': 's', 'consonant_length': 0.07692449539899826, 'vowel': 'u', 'vowel_length': 0.06162615865468979, 'pitch': 5.771613121032715}, {'text': 'ル', 'consonant': 'r', 'consonant_length': 0.03645040839910507, 'vowel': 'u', 'vowel_length': 0.06861542910337448, 'pitch': 5.794051170349121}, {'text': 'ノ', 'consonant': 'n', 'consonant_length': 0.05225729942321777, 'vowel': 'o', 'vowel_length': 0.08119165897369385, 'pitch': 5.828841686248779}, {'text': 'ニ', 'consonant': 'n', 'consonant_length': 0.06610388308763504, 'vowel': 'i', 'vowel_length': 0.07913529127836227, 'pitch': 5.597579002380371}], 'accent': 2, 'pause_mora': None, 'is_interrogative': False}, {'moras': [{'text': 'イ', 'consonant': None, 'consonant_length': None, 'vowel': 'i', 'vowel_length': 0.07744506746530533, 'pitch': 5.3811140060424805}, {'text': 'ソ', 'consonant': 's', 'consonant_length': 0.07853676378726959, 'vowel': 'o', 'vowel_length': 0.06128513813018799, 'pitch': 5.685547828674316}, {'text': 'ガ', 'consonant': 'g', 'consonant_length': 0.04839219152927399, 'vowel': 'a', 'vowel_length': 0.06900095194578171, 'pitch': 5.757118225097656}, {'text': 'シ', 'consonant': 'sh', 'consonant_length': 0.10186547040939331, 'vowel': 'i', 'vowel_length': 0.08230608701705933, 'pitch': 5.885207176208496}, {'text': 'イ', 'consonant': None, 'consonant_length': None, 'vowel': 'i', 'vowel_length': 0.06951123476028442, 'pitch': 5.8865861892700195}, {'text': 'デ', 'consonant': 'd', 'consonant_length': 0.05425020307302475, 'vowel': 'e', 'vowel_length': 0.08017394691705704, 'pitch': 5.670916557312012}, {'text': 'ス', 'consonant': 's', 'consonant_length': 0.06706658750772476, 'vowel': 'U', 'vowel_length': 0.1034175232052803, 'pitch': 0.0}], 'accent': 4, 'pause_mora': {'text': '、', 'consonant': None, 'consonant_length': None, 'vowel': 'pau', 'vowel_length': 0.4375907778739929, 'pitch': 0.0}, 'is_interrogative': False}, {'moras': [{'text': 'ヨ', 'consonant': 'y', 'consonant_length': 0.06623303145170212, 'vowel': 'o', 'vowel_length': 0.09117027372121811, 'pitch': 5.75333309173584}, {'text': 'ク', 'consonant': 'k', 'consonant_length': 0.06388435512781143, 'vowel': 'u', 'vowel_length': 0.059681110084056854, 'pitch': 5.850281715393066}], 'accent': 1, 'pause_mora': None, 'is_interrogative': False}, {'moras': [{'text': 'ヤ', 'consonant': 'y', 'consonant_length': 0.06047303229570389, 'vowel': 'a', 'vowel_length': 0.11124269664287567, 'pitch': 5.642058372497559}, {'text': 'ッ', 'consonant': None, 'consonant_length': None, 'vowel': 'cl', 'vowel_length': 0.06754770874977112, 'pitch': 0.0}, {'text': 'タ', 'consonant': 't', 'consonant_length': 0.06536875665187836, 'vowel': 'a', 'vowel_length': 0.1308324933052063, 'pitch': 5.407073020935059}], 'accent': 1, 'pause_mora': None, 'is_interrogative': False}], 'speedScale': 1.0, 'pitchScale': 0.0, 'intonationScale': 1.0, 'volumeScale': 1.0, 'prePhonemeLength': 0.1, 'postPhonemeLength': 0.1, 'outputSamplingRate': 24000, 'outputStereo': False, 'kana': \"ジェ'フ、アナ'タワ/_シュクダイオ'/スル'ノニ/イソガシ'イデ_ス、ヨ'ク/ヤ'ッタ\"}\n"
     ]
    }
   ],
   "source": [
    "to_speech('ジェフ、あなたは宿題をするのに忙しいです よくやった', 0)"
   ]
  },
  {
   "attachments": {},
   "cell_type": "markdown",
   "metadata": {},
   "source": [
    "## Playing Audio"
   ]
  },
  {
   "cell_type": "code",
   "execution_count": 8,
   "metadata": {},
   "outputs": [],
   "source": [
    "def play_voice(device_id):\n",
    "    data, fs = sf.read(WAV_FILE, dtype='float32')\n",
    "    sd.play(data, fs, device=device_id)\n",
    "    sd.wait()"
   ]
  },
  {
   "attachments": {},
   "cell_type": "markdown",
   "metadata": {},
   "source": [
    "## Testing"
   ]
  },
  {
   "cell_type": "code",
   "execution_count": 9,
   "metadata": {},
   "outputs": [
    {
     "ename": "PortAudioError",
     "evalue": "Error opening OutputStream: Invalid number of channels [PaErrorCode -9998]",
     "output_type": "error",
     "traceback": [
      "\u001b[1;31m---------------------------------------------------------------------------\u001b[0m",
      "\u001b[1;31mPortAudioError\u001b[0m                            Traceback (most recent call last)",
      "Cell \u001b[1;32mIn[9], line 1\u001b[0m\n\u001b[1;32m----> 1\u001b[0m play_voice(\u001b[39m17\u001b[39;49m)\n",
      "Cell \u001b[1;32mIn[8], line 3\u001b[0m, in \u001b[0;36mplay_voice\u001b[1;34m(device_id)\u001b[0m\n\u001b[0;32m      1\u001b[0m \u001b[39mdef\u001b[39;00m \u001b[39mplay_voice\u001b[39m(device_id):\n\u001b[0;32m      2\u001b[0m     data, fs \u001b[39m=\u001b[39m sf\u001b[39m.\u001b[39mread(WAV_FILE, dtype\u001b[39m=\u001b[39m\u001b[39m'\u001b[39m\u001b[39mfloat32\u001b[39m\u001b[39m'\u001b[39m)\n\u001b[1;32m----> 3\u001b[0m     sd\u001b[39m.\u001b[39;49mplay(data, fs, device\u001b[39m=\u001b[39;49mdevice_id)\n\u001b[0;32m      4\u001b[0m     sd\u001b[39m.\u001b[39mwait()\n",
      "File \u001b[1;32mc:\\Users\\funny\\anaconda3\\envs\\waifu\\lib\\site-packages\\sounddevice.py:174\u001b[0m, in \u001b[0;36mplay\u001b[1;34m(data, samplerate, mapping, blocking, loop, **kwargs)\u001b[0m\n\u001b[0;32m    171\u001b[0m     ctx\u001b[39m.\u001b[39mwrite_outdata(outdata)\n\u001b[0;32m    172\u001b[0m     ctx\u001b[39m.\u001b[39mcallback_exit()\n\u001b[1;32m--> 174\u001b[0m ctx\u001b[39m.\u001b[39mstart_stream(OutputStream, samplerate, ctx\u001b[39m.\u001b[39moutput_channels,\n\u001b[0;32m    175\u001b[0m                  ctx\u001b[39m.\u001b[39moutput_dtype, callback, blocking,\n\u001b[0;32m    176\u001b[0m                  prime_output_buffers_using_stream_callback\u001b[39m=\u001b[39m\u001b[39mFalse\u001b[39;00m,\n\u001b[0;32m    177\u001b[0m                  \u001b[39m*\u001b[39m\u001b[39m*\u001b[39mkwargs)\n",
      "File \u001b[1;32mc:\\Users\\funny\\anaconda3\\envs\\waifu\\lib\\site-packages\\sounddevice.py:2573\u001b[0m, in \u001b[0;36m_CallbackContext.start_stream\u001b[1;34m(self, StreamClass, samplerate, channels, dtype, callback, blocking, **kwargs)\u001b[0m\n\u001b[0;32m   2570\u001b[0m \u001b[39mdef\u001b[39;00m \u001b[39mstart_stream\u001b[39m(\u001b[39mself\u001b[39m, StreamClass, samplerate, channels, dtype, callback,\n\u001b[0;32m   2571\u001b[0m                  blocking, \u001b[39m*\u001b[39m\u001b[39m*\u001b[39mkwargs):\n\u001b[0;32m   2572\u001b[0m     stop()  \u001b[39m# Stop previous playback/recording\u001b[39;00m\n\u001b[1;32m-> 2573\u001b[0m     \u001b[39mself\u001b[39m\u001b[39m.\u001b[39mstream \u001b[39m=\u001b[39m StreamClass(samplerate\u001b[39m=\u001b[39msamplerate,\n\u001b[0;32m   2574\u001b[0m                               channels\u001b[39m=\u001b[39mchannels,\n\u001b[0;32m   2575\u001b[0m                               dtype\u001b[39m=\u001b[39mdtype,\n\u001b[0;32m   2576\u001b[0m                               callback\u001b[39m=\u001b[39mcallback,\n\u001b[0;32m   2577\u001b[0m                               finished_callback\u001b[39m=\u001b[39m\u001b[39mself\u001b[39m\u001b[39m.\u001b[39mfinished_callback,\n\u001b[0;32m   2578\u001b[0m                               \u001b[39m*\u001b[39m\u001b[39m*\u001b[39mkwargs)\n\u001b[0;32m   2579\u001b[0m     \u001b[39mself\u001b[39m\u001b[39m.\u001b[39mstream\u001b[39m.\u001b[39mstart()\n\u001b[0;32m   2580\u001b[0m     \u001b[39mglobal\u001b[39;00m _last_callback\n",
      "File \u001b[1;32mc:\\Users\\funny\\anaconda3\\envs\\waifu\\lib\\site-packages\\sounddevice.py:1488\u001b[0m, in \u001b[0;36mOutputStream.__init__\u001b[1;34m(self, samplerate, blocksize, device, channels, dtype, latency, extra_settings, callback, finished_callback, clip_off, dither_off, never_drop_input, prime_output_buffers_using_stream_callback)\u001b[0m\n\u001b[0;32m   1458\u001b[0m \u001b[39mdef\u001b[39;00m \u001b[39m__init__\u001b[39m(\u001b[39mself\u001b[39m, samplerate\u001b[39m=\u001b[39m\u001b[39mNone\u001b[39;00m, blocksize\u001b[39m=\u001b[39m\u001b[39mNone\u001b[39;00m,\n\u001b[0;32m   1459\u001b[0m              device\u001b[39m=\u001b[39m\u001b[39mNone\u001b[39;00m, channels\u001b[39m=\u001b[39m\u001b[39mNone\u001b[39;00m, dtype\u001b[39m=\u001b[39m\u001b[39mNone\u001b[39;00m, latency\u001b[39m=\u001b[39m\u001b[39mNone\u001b[39;00m,\n\u001b[0;32m   1460\u001b[0m              extra_settings\u001b[39m=\u001b[39m\u001b[39mNone\u001b[39;00m, callback\u001b[39m=\u001b[39m\u001b[39mNone\u001b[39;00m, finished_callback\u001b[39m=\u001b[39m\u001b[39mNone\u001b[39;00m,\n\u001b[0;32m   1461\u001b[0m              clip_off\u001b[39m=\u001b[39m\u001b[39mNone\u001b[39;00m, dither_off\u001b[39m=\u001b[39m\u001b[39mNone\u001b[39;00m, never_drop_input\u001b[39m=\u001b[39m\u001b[39mNone\u001b[39;00m,\n\u001b[0;32m   1462\u001b[0m              prime_output_buffers_using_stream_callback\u001b[39m=\u001b[39m\u001b[39mNone\u001b[39;00m):\n\u001b[0;32m   1463\u001b[0m \u001b[39m    \u001b[39m\u001b[39m\"\"\"PortAudio output stream (using NumPy).\u001b[39;00m\n\u001b[0;32m   1464\u001b[0m \n\u001b[0;32m   1465\u001b[0m \u001b[39m    This has the same methods and attributes as `Stream`, except\u001b[39;00m\n\u001b[1;32m   (...)\u001b[0m\n\u001b[0;32m   1486\u001b[0m \n\u001b[0;32m   1487\u001b[0m \u001b[39m    \"\"\"\u001b[39;00m\n\u001b[1;32m-> 1488\u001b[0m     _StreamBase\u001b[39m.\u001b[39m\u001b[39m__init__\u001b[39m(\u001b[39mself\u001b[39m, kind\u001b[39m=\u001b[39m\u001b[39m'\u001b[39m\u001b[39moutput\u001b[39m\u001b[39m'\u001b[39m, wrap_callback\u001b[39m=\u001b[39m\u001b[39m'\u001b[39m\u001b[39marray\u001b[39m\u001b[39m'\u001b[39m,\n\u001b[0;32m   1489\u001b[0m                          \u001b[39m*\u001b[39m\u001b[39m*\u001b[39m_remove_self(\u001b[39mlocals\u001b[39m()))\n",
      "File \u001b[1;32mc:\\Users\\funny\\anaconda3\\envs\\waifu\\lib\\site-packages\\sounddevice.py:892\u001b[0m, in \u001b[0;36m_StreamBase.__init__\u001b[1;34m(self, kind, samplerate, blocksize, device, channels, dtype, latency, extra_settings, callback, finished_callback, clip_off, dither_off, never_drop_input, prime_output_buffers_using_stream_callback, userdata, wrap_callback)\u001b[0m\n\u001b[0;32m    890\u001b[0m     userdata \u001b[39m=\u001b[39m _ffi\u001b[39m.\u001b[39mNULL\n\u001b[0;32m    891\u001b[0m \u001b[39mself\u001b[39m\u001b[39m.\u001b[39m_ptr \u001b[39m=\u001b[39m _ffi\u001b[39m.\u001b[39mnew(\u001b[39m'\u001b[39m\u001b[39mPaStream**\u001b[39m\u001b[39m'\u001b[39m)\n\u001b[1;32m--> 892\u001b[0m _check(_lib\u001b[39m.\u001b[39;49mPa_OpenStream(\u001b[39mself\u001b[39;49m\u001b[39m.\u001b[39;49m_ptr, iparameters, oparameters,\n\u001b[0;32m    893\u001b[0m                           samplerate, blocksize, stream_flags,\n\u001b[0;32m    894\u001b[0m                           callback_ptr, userdata),\n\u001b[0;32m    895\u001b[0m        \u001b[39m'\u001b[39;49m\u001b[39mError opening \u001b[39;49m\u001b[39m{}\u001b[39;49;00m\u001b[39m'\u001b[39;49m\u001b[39m.\u001b[39;49mformat(\u001b[39mself\u001b[39;49m\u001b[39m.\u001b[39;49m\u001b[39m__class__\u001b[39;49m\u001b[39m.\u001b[39;49m\u001b[39m__name__\u001b[39;49m))\n\u001b[0;32m    897\u001b[0m \u001b[39m# dereference PaStream** --> PaStream*\u001b[39;00m\n\u001b[0;32m    898\u001b[0m \u001b[39mself\u001b[39m\u001b[39m.\u001b[39m_ptr \u001b[39m=\u001b[39m \u001b[39mself\u001b[39m\u001b[39m.\u001b[39m_ptr[\u001b[39m0\u001b[39m]\n",
      "File \u001b[1;32mc:\\Users\\funny\\anaconda3\\envs\\waifu\\lib\\site-packages\\sounddevice.py:2738\u001b[0m, in \u001b[0;36m_check\u001b[1;34m(err, msg)\u001b[0m\n\u001b[0;32m   2735\u001b[0m     hosterror_info \u001b[39m=\u001b[39m host_api, info\u001b[39m.\u001b[39merrorCode, hosterror_text\n\u001b[0;32m   2736\u001b[0m     \u001b[39mraise\u001b[39;00m PortAudioError(errormsg, err, hosterror_info)\n\u001b[1;32m-> 2738\u001b[0m \u001b[39mraise\u001b[39;00m PortAudioError(errormsg, err)\n",
      "\u001b[1;31mPortAudioError\u001b[0m: Error opening OutputStream: Invalid number of channels [PaErrorCode -9998]"
     ]
    }
   ],
   "source": [
    "play_voice(17)"
   ]
  }
 ],
 "metadata": {
  "kernelspec": {
   "display_name": "waifu",
   "language": "python",
   "name": "python3"
  },
  "language_info": {
   "codemirror_mode": {
    "name": "ipython",
    "version": 3
   },
   "file_extension": ".py",
   "mimetype": "text/x-python",
   "name": "python",
   "nbconvert_exporter": "python",
   "pygments_lexer": "ipython3",
   "version": "3.9.16"
  },
  "orig_nbformat": 4
 },
 "nbformat": 4,
 "nbformat_minor": 2
}
